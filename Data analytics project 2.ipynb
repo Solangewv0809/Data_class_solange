{
 "cells": [
  {
   "cell_type": "code",
   "execution_count": 1,
   "id": "c101be13-48c3-4ceb-901c-b45ee93284da",
   "metadata": {
    "tags": []
   },
   "outputs": [],
   "source": [
    "import pandas as pd\n",
    "\n",
    "#URL of the CSV file\n",
    "url= \"https://raw.githubusercontent.com/niteen11/DataAnalyticsAcademy/master/Python/dataset_diabetes/diabetic_data.csv\"\n",
    "\n",
    "# Read the CSV file into a pandas DataFrame\n",
    "df = pd.read_csv(url)"
   ]
  },
  {
   "cell_type": "code",
   "execution_count": 3,
   "id": "053c34af-27bd-440c-86cc-faad5bce1f21",
   "metadata": {
    "tags": []
   },
   "outputs": [
    {
     "name": "stdout",
     "output_type": "stream",
     "text": [
      "        encounter_id  patient_nbr             race  gender      age weight  \\\n",
      "101761     443847548    100162476  AfricanAmerican    Male  [70-80)      ?   \n",
      "101762     443847782     74694222  AfricanAmerican  Female  [80-90)      ?   \n",
      "101763     443854148     41088789        Caucasian    Male  [70-80)      ?   \n",
      "101764     443857166     31693671        Caucasian  Female  [80-90)      ?   \n",
      "101765     443867222    175429310        Caucasian    Male  [70-80)      ?   \n",
      "\n",
      "        admission_type_id  discharge_disposition_id  admission_source_id  \\\n",
      "101761                  1                         3                    7   \n",
      "101762                  1                         4                    5   \n",
      "101763                  1                         1                    7   \n",
      "101764                  2                         3                    7   \n",
      "101765                  1                         1                    7   \n",
      "\n",
      "        time_in_hospital  ... citoglipton insulin  glyburide-metformin  \\\n",
      "101761                 3  ...          No    Down                   No   \n",
      "101762                 5  ...          No  Steady                   No   \n",
      "101763                 1  ...          No    Down                   No   \n",
      "101764                10  ...          No      Up                   No   \n",
      "101765                 6  ...          No      No                   No   \n",
      "\n",
      "        glipizide-metformin  glimepiride-pioglitazone  \\\n",
      "101761                   No                        No   \n",
      "101762                   No                        No   \n",
      "101763                   No                        No   \n",
      "101764                   No                        No   \n",
      "101765                   No                        No   \n",
      "\n",
      "        metformin-rosiglitazone  metformin-pioglitazone  change diabetesMed  \\\n",
      "101761                       No                      No      Ch         Yes   \n",
      "101762                       No                      No      No         Yes   \n",
      "101763                       No                      No      Ch         Yes   \n",
      "101764                       No                      No      Ch         Yes   \n",
      "101765                       No                      No      No          No   \n",
      "\n",
      "       readmitted  \n",
      "101761        >30  \n",
      "101762         NO  \n",
      "101763         NO  \n",
      "101764         NO  \n",
      "101765         NO  \n",
      "\n",
      "[5 rows x 50 columns]\n"
     ]
    }
   ],
   "source": [
    "# Display the last few rows of the DataFrame\n",
    "print(df.tail())"
   ]
  },
  {
   "cell_type": "code",
   "execution_count": 2,
   "id": "eee09dbc-5ef5-4632-a013-63019301ace5",
   "metadata": {
    "tags": []
   },
   "outputs": [
    {
     "name": "stdout",
     "output_type": "stream",
     "text": [
      "   encounter_id  patient_nbr             race  gender      age weight  \\\n",
      "0       2278392      8222157        Caucasian  Female   [0-10)      ?   \n",
      "1        149190     55629189        Caucasian  Female  [10-20)      ?   \n",
      "2         64410     86047875  AfricanAmerican  Female  [20-30)      ?   \n",
      "3        500364     82442376        Caucasian    Male  [30-40)      ?   \n",
      "4         16680     42519267        Caucasian    Male  [40-50)      ?   \n",
      "\n",
      "   admission_type_id  discharge_disposition_id  admission_source_id  \\\n",
      "0                  6                        25                    1   \n",
      "1                  1                         1                    7   \n",
      "2                  1                         1                    7   \n",
      "3                  1                         1                    7   \n",
      "4                  1                         1                    7   \n",
      "\n",
      "   time_in_hospital  ... citoglipton insulin  glyburide-metformin  \\\n",
      "0                 1  ...          No      No                   No   \n",
      "1                 3  ...          No      Up                   No   \n",
      "2                 2  ...          No      No                   No   \n",
      "3                 2  ...          No      Up                   No   \n",
      "4                 1  ...          No  Steady                   No   \n",
      "\n",
      "   glipizide-metformin  glimepiride-pioglitazone  metformin-rosiglitazone  \\\n",
      "0                   No                        No                       No   \n",
      "1                   No                        No                       No   \n",
      "2                   No                        No                       No   \n",
      "3                   No                        No                       No   \n",
      "4                   No                        No                       No   \n",
      "\n",
      "   metformin-pioglitazone  change diabetesMed readmitted  \n",
      "0                      No      No          No         NO  \n",
      "1                      No      Ch         Yes        >30  \n",
      "2                      No      No         Yes         NO  \n",
      "3                      No      Ch         Yes         NO  \n",
      "4                      No      Ch         Yes         NO  \n",
      "\n",
      "[5 rows x 50 columns]\n"
     ]
    }
   ],
   "source": [
    "# Display the first few rows of the DataFrame\n",
    "print(df.head())"
   ]
  },
  {
   "cell_type": "code",
   "execution_count": 6,
   "id": "889fc941-16f6-4226-a953-78c5e32948e6",
   "metadata": {
    "tags": []
   },
   "outputs": [
    {
     "name": "stdout",
     "output_type": "stream",
     "text": [
      "20-30\n",
      "20-30\n",
      "20-30\n",
      "20-30\n",
      "20-30\n",
      "20-30\n",
      "20-30\n",
      "20-30\n",
      "20-30\n",
      "20-30\n",
      "20-30\n",
      "20-30\n",
      "20-30\n",
      "20-30\n",
      "20-30\n",
      "20-30\n",
      "20-30\n",
      "20-30\n",
      "20-30\n",
      "20-30\n",
      "20-30\n",
      "20-30\n",
      "20-30\n",
      "20-30\n",
      "20-30\n",
      "20-30\n",
      "20-30\n",
      "20-30\n",
      "20-30\n",
      "20-30\n",
      "20-30\n",
      "20-30\n",
      "20-30\n",
      "20-30\n",
      "20-30\n",
      "20-30\n",
      "20-30\n",
      "20-30\n",
      "20-30\n",
      "20-30\n",
      "20-30\n",
      "20-30\n",
      "20-30\n",
      "20-30\n",
      "20-30\n",
      "20-30\n",
      "20-30\n",
      "20-30\n",
      "20-30\n",
      "20-30\n"
     ]
    }
   ],
   "source": [
    "# Scroll through the data\n",
    "for race in df:\n",
    "    print(\"20-30\")"
   ]
  },
  {
   "cell_type": "code",
   "execution_count": 13,
   "id": "4437083b-8e1d-445d-bfa7-c3af4baa74e1",
   "metadata": {
    "tags": []
   },
   "outputs": [],
   "source": [
    "# Filter the dataset to include only African American patients\n",
    "filter_condition = df['race'] == 'AfricanAmerican'"
   ]
  },
  {
   "cell_type": "code",
   "execution_count": 15,
   "id": "467b1a13-3f11-41cf-ad75-e71ef73d1f43",
   "metadata": {
    "tags": []
   },
   "outputs": [],
   "source": [
    "filtered_data = df[filter_condition]"
   ]
  },
  {
   "cell_type": "code",
   "execution_count": 18,
   "id": "73e36269-ecd6-4bbe-8595-e087e0cf8659",
   "metadata": {
    "tags": []
   },
   "outputs": [
    {
     "name": "stdout",
     "output_type": "stream",
     "text": [
      "        encounter_id  patient_nbr             race  gender       age weight  \\\n",
      "2              64410     86047875  AfricanAmerican  Female   [20-30)      ?   \n",
      "10             28236     89869032  AfricanAmerican  Female   [40-50)      ?   \n",
      "11             36900     77391171  AfricanAmerican    Male   [60-70)      ?   \n",
      "14             62256     49726791  AfricanAmerican  Female   [60-70)      ?   \n",
      "15             73578     86328819  AfricanAmerican    Male   [60-70)      ?   \n",
      "...              ...          ...              ...     ...       ...    ...   \n",
      "101739     443775740     30656952  AfricanAmerican    Male   [70-80)      ?   \n",
      "101741     443787128     58160520  AfricanAmerican    Male  [90-100)      ?   \n",
      "101760     443847176     50375628  AfricanAmerican  Female   [60-70)      ?   \n",
      "101761     443847548    100162476  AfricanAmerican    Male   [70-80)      ?   \n",
      "101762     443847782     74694222  AfricanAmerican  Female   [80-90)      ?   \n",
      "\n",
      "        admission_type_id  discharge_disposition_id  admission_source_id  \\\n",
      "2                       1                         1                    7   \n",
      "10                      1                         1                    7   \n",
      "11                      2                         1                    4   \n",
      "14                      3                         1                    2   \n",
      "15                      1                         3                    7   \n",
      "...                   ...                       ...                  ...   \n",
      "101739                  1                         1                    7   \n",
      "101741                  1                         3                    7   \n",
      "101760                  1                         1                    7   \n",
      "101761                  1                         3                    7   \n",
      "101762                  1                         4                    5   \n",
      "\n",
      "        time_in_hospital  ... citoglipton insulin  glyburide-metformin  \\\n",
      "2                      2  ...          No      No                   No   \n",
      "10                     9  ...          No  Steady                   No   \n",
      "11                     7  ...          No  Steady                   No   \n",
      "14                     1  ...          No  Steady                   No   \n",
      "15                    12  ...          No      Up                   No   \n",
      "...                  ...  ...         ...     ...                  ...   \n",
      "101739                 1  ...          No  Steady                   No   \n",
      "101741                 4  ...          No      No                   No   \n",
      "101760                 6  ...          No    Down                   No   \n",
      "101761                 3  ...          No    Down                   No   \n",
      "101762                 5  ...          No  Steady                   No   \n",
      "\n",
      "        glipizide-metformin  glimepiride-pioglitazone  \\\n",
      "2                        No                        No   \n",
      "10                       No                        No   \n",
      "11                       No                        No   \n",
      "14                       No                        No   \n",
      "15                       No                        No   \n",
      "...                     ...                       ...   \n",
      "101739                   No                        No   \n",
      "101741                   No                        No   \n",
      "101760                   No                        No   \n",
      "101761                   No                        No   \n",
      "101762                   No                        No   \n",
      "\n",
      "        metformin-rosiglitazone  metformin-pioglitazone  change diabetesMed  \\\n",
      "2                            No                      No      No         Yes   \n",
      "10                           No                      No      No         Yes   \n",
      "11                           No                      No      Ch         Yes   \n",
      "14                           No                      No      No         Yes   \n",
      "15                           No                      No      Ch         Yes   \n",
      "...                         ...                     ...     ...         ...   \n",
      "101739                       No                      No      No         Yes   \n",
      "101741                       No                      No      No          No   \n",
      "101760                       No                      No      Ch         Yes   \n",
      "101761                       No                      No      Ch         Yes   \n",
      "101762                       No                      No      No         Yes   \n",
      "\n",
      "       readmitted  \n",
      "2              NO  \n",
      "10            >30  \n",
      "11            <30  \n",
      "14            >30  \n",
      "15             NO  \n",
      "...           ...  \n",
      "101739         NO  \n",
      "101741         NO  \n",
      "101760        >30  \n",
      "101761        >30  \n",
      "101762         NO  \n",
      "\n",
      "[19210 rows x 50 columns]\n"
     ]
    }
   ],
   "source": [
    "print(filtered_data)"
   ]
  },
  {
   "cell_type": "code",
   "execution_count": 24,
   "id": "fe89e436-4898-4231-a4dd-236f532eb56e",
   "metadata": {
    "tags": []
   },
   "outputs": [],
   "source": [
    "import seaborn as sns\n",
    "import matplotlib.pyplot as plt\n"
   ]
  },
  {
   "cell_type": "code",
   "execution_count": 25,
   "id": "b5307f86-e761-46f4-88d4-a99cad07acd3",
   "metadata": {
    "tags": []
   },
   "outputs": [
    {
     "data": {
      "image/png": "[encoded data removed]",
      "text/plain": [
       "<Figure size 1000x600 with 1 Axes>"
      ]
     },
     "metadata": {},
     "output_type": "display_data"
    }
   ],
   "source": [
    "# Create a count plot to visualize the distribution of ages for African American patients\n",
    "plt.figure(figsize=(10, 6))\n",
    "sns.countplot(x='age', data=df[df['race'] == 'AfricanAmerican'])\n",
    "plt.title('Distribution of Ages for African American Patients')\n",
    "plt.xlabel('Age Range')\n",
    "plt.ylabel('Count')\n",
    "plt.xticks(rotation=45)\n",
    "plt.show()"
   ]
  },
  {
   "cell_type": "code",
   "execution_count": 26,
   "id": "c147a069-ac1f-4493-a8c5-589c233dfdd5",
   "metadata": {
    "tags": []
   },
   "outputs": [
    {
     "ename": "NameError",
     "evalue": "name 'data' is not defined",
     "output_type": "error",
     "traceback": [
      "\u001b[1;31m---------------------------------------------------------------------------\u001b[0m",
      "\u001b[1;31mNameError\u001b[0m                                 Traceback (most recent call last)",
      "Cell \u001b[1;32mIn[26], line 2\u001b[0m\n\u001b[0;32m      1\u001b[0m \u001b[38;5;66;03m# Convert data to DataFrame\u001b[39;00m\n\u001b[1;32m----> 2\u001b[0m df \u001b[38;5;241m=\u001b[39m pd\u001b[38;5;241m.\u001b[39mDataFrame(data)\n\u001b[0;32m      4\u001b[0m \u001b[38;5;66;03m# Group by race and count diabetic patients\u001b[39;00m\n\u001b[0;32m      5\u001b[0m diabetes_counts \u001b[38;5;241m=\u001b[39m df\u001b[38;5;241m.\u001b[39mgroupby(\u001b[38;5;124m'\u001b[39m\u001b[38;5;124mrace\u001b[39m\u001b[38;5;124m'\u001b[39m)[\u001b[38;5;124m'\u001b[39m\u001b[38;5;124mdiabetesMed\u001b[39m\u001b[38;5;124m'\u001b[39m]\u001b[38;5;241m.\u001b[39mapply(\u001b[38;5;28;01mlambda\u001b[39;00m x: (x \u001b[38;5;241m==\u001b[39m \u001b[38;5;124m'\u001b[39m\u001b[38;5;124mYes\u001b[39m\u001b[38;5;124m'\u001b[39m)\u001b[38;5;241m.\u001b[39msum())\u001b[38;5;241m.\u001b[39mreset_index(name\u001b[38;5;241m=\u001b[39m\u001b[38;5;124m'\u001b[39m\u001b[38;5;124mDiabetic Patients\u001b[39m\u001b[38;5;124m'\u001b[39m)\n",
      "\u001b[1;31mNameError\u001b[0m: name 'data' is not defined"
     ]
    }
   ],
   "source": [
    "# Convert data to DataFrame\n",
    "df = pd.DataFrame(data)\n",
    "\n",
    "# Group by race and count diabetic patients\n",
    "diabetes_counts = df.groupby('race')['diabetesMed'].apply(lambda x: (x == 'Yes').sum()).reset_index(name='Diabetic Patients')\n",
    "\n",
    "# Plot\n",
    "plt.figure(figsize=(8, 6))\n",
    "plt.bar(diabetes_counts['race'], diabetes_counts['Diabetic Patients'], color=['blue', 'orange'])\n",
    "plt.title('Number of Diabetic Patients by Race')\n",
    "plt.xlabel('Race')\n",
    "plt.ylabel('Number of Diabetic Patients')\n",
    "plt.show()"
   ]
  },
  {
   "cell_type": "code",
   "execution_count": 27,
   "id": "dae8a7d5-710d-466d-8da3-267fe0006391",
   "metadata": {
    "tags": []
   },
   "outputs": [
    {
     "data": {
      "image/png": "[encoded data removed]",
      "text/plain": [
       "<Figure size 800x600 with 1 Axes>"
      ]
     },
     "metadata": {},
     "output_type": "display_data"
    }
   ],
   "source": [
    "import pandas as pd\n",
    "import matplotlib.pyplot as plt\n",
    "\n",
    "# Load the dataset\n",
    "url = \"https://raw.githubusercontent.com/niteen11/DataAnalyticsAcademy/master/Python/dataset_diabetes/diabetic_data.csv\"\n",
    "df = pd.read_csv(url)\n",
    "\n",
    "# Filter the dataset to include only Caucasian and African American patients\n",
    "caucasian_diabetes = df[(df['race'] == 'Caucasian') & (df['diabetesMed'] == 'Yes')]\n",
    "african_american_diabetes = df[(df['race'] == 'AfricanAmerican') & (df['diabetesMed'] == 'Yes')]\n",
    "\n",
    "# Count the number of patients with diabetes in each group\n",
    "caucasian_count = caucasian_diabetes.shape[0]\n",
    "african_american_count = african_american_diabetes.shape[0]\n",
    "\n",
    "# Create a bar plot to compare the counts\n",
    "plt.figure(figsize=(8, 6))\n",
    "plt.bar(['Caucasian', 'African American'], [caucasian_count, african_american_count], color=['blue', 'orange'])\n",
    "plt.title('Diabetes Patients by Race')\n",
    "plt.xlabel('Race')\n",
    "plt.ylabel('Number of Patients')\n",
    "plt.show()"
   ]
  },
  {
   "cell_type": "code",
   "execution_count": 31,
   "id": "d076e7d5-054a-4019-82ff-c21a79a8dacc",
   "metadata": {
    "tags": []
   },
   "outputs": [
    {
     "ename": "SyntaxError",
     "evalue": "unterminated string literal (detected at line 1) (1150767681.py, line 1)",
     "output_type": "error",
     "traceback": [
      "\u001b[1;36m  Cell \u001b[1;32mIn[31], line 1\u001b[1;36m\u001b[0m\n\u001b[1;33m    sentence = \"While shown in the data the highest number of patients in the African American community shows ages between 50-80 having the most number of\u001b[0m\n\u001b[1;37m               ^\u001b[0m\n\u001b[1;31mSyntaxError\u001b[0m\u001b[1;31m:\u001b[0m unterminated string literal (detected at line 1)\n"
     ]
    }
   ],
   "source": [
    "\n",
    "Sure, here's the corrected sentence in Python format:\n",
    "\n",
    "python\n",
    "Copy code\n",
    "sentence = \"While the data shows that the highest number of patients in the African American community falls between the ages of 50 and 80, surpassing that of their Caucasian counterparts, we cannot fully analyze this due to African Americans being considered a minority. Additionally, it's important to consider that many African Americans do not seek medical treatment or face disparities in obtaining health insurance for adequate healthcare. While these numbers provide insight, further research beyond hospital data is needed for accurate analysis.\"\n",
    "print(sentence)"
   ]
  },
  {
   "cell_type": "code",
   "execution_count": null,
   "id": "53c52b16-f1ac-4fc2-b12c-a890cbae9241",
   "metadata": {},
   "outputs": [],
   "source": []
  }
 ],
 "metadata": {
  "kernelspec": {
   "display_name": "Python 3 (ipykernel)",
   "language": "python",
   "name": "python3"
  },
  "language_info": {
   "codemirror_mode": {
    "name": "ipython",
    "version": 3
   },
   "file_extension": ".py",
   "mimetype": "text/x-python",
   "name": "python",
   "nbconvert_exporter": "python",
   "pygments_lexer": "ipython3",
   "version": "3.11.5"
  }
 },
 "nbformat": 4,
 "nbformat_minor": 5
}
